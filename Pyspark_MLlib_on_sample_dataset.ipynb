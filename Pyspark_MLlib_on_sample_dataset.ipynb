{
  "nbformat": 4,
  "nbformat_minor": 0,
  "metadata": {
    "colab": {
      "provenance": []
    },
    "kernelspec": {
      "name": "python3",
      "display_name": "Python 3"
    },
    "language_info": {
      "name": "python"
    }
  },
  "cells": [
    {
      "cell_type": "code",
      "execution_count": null,
      "metadata": {
        "colab": {
          "base_uri": "https://localhost:8080/"
        },
        "id": "ESlUQdj0kHLM",
        "outputId": "d9f5c62c-4ca4-4316-a35c-aee6757d2559"
      },
      "outputs": [
        {
          "output_type": "stream",
          "name": "stdout",
          "text": [
            "Collecting pyspark\n",
            "  Downloading pyspark-3.5.1.tar.gz (317.0 MB)\n",
            "\u001b[2K     \u001b[90m━━━━━━━━━━━━━━━━━━━━━━━━━━━━━━━━━━━━━━━━\u001b[0m \u001b[32m317.0/317.0 MB\u001b[0m \u001b[31m1.4 MB/s\u001b[0m eta \u001b[36m0:00:00\u001b[0m\n",
            "\u001b[?25h  Preparing metadata (setup.py) ... \u001b[?25l\u001b[?25hdone\n",
            "Requirement already satisfied: py4j==0.10.9.7 in /usr/local/lib/python3.10/dist-packages (from pyspark) (0.10.9.7)\n",
            "Building wheels for collected packages: pyspark\n",
            "  Building wheel for pyspark (setup.py) ... \u001b[?25l\u001b[?25hdone\n",
            "  Created wheel for pyspark: filename=pyspark-3.5.1-py2.py3-none-any.whl size=317488491 sha256=31aca76d94a4251fdde58a96ac610f84301747e918ac90244644ef174582d0d8\n",
            "  Stored in directory: /root/.cache/pip/wheels/80/1d/60/2c256ed38dddce2fdd93be545214a63e02fbd8d74fb0b7f3a6\n",
            "Successfully built pyspark\n",
            "Installing collected packages: pyspark\n",
            "Successfully installed pyspark-3.5.1\n"
          ]
        }
      ],
      "source": [
        "!pip install pyspark"
      ]
    },
    {
      "cell_type": "code",
      "source": [
        "from pyspark.sql import SparkSession\n",
        "\n",
        "spark = SparkSession.builder\\\n",
        "        .master(\"local\")\\\n",
        "        .appName(\"Colab\")\\\n",
        "        .config('spark.ui.port', '4050')\\\n",
        "        .getOrCreate()\n",
        "\n",
        "spark"
      ],
      "metadata": {
        "colab": {
          "base_uri": "https://localhost:8080/",
          "height": 219
        },
        "id": "tn2QaRD7nEfJ",
        "outputId": "fb708e2d-efa8-44f5-9a0a-8c05825f9e0e"
      },
      "execution_count": null,
      "outputs": [
        {
          "output_type": "execute_result",
          "data": {
            "text/plain": [
              "<pyspark.sql.session.SparkSession at 0x7ae0c0715b40>"
            ],
            "text/html": [
              "\n",
              "            <div>\n",
              "                <p><b>SparkSession - in-memory</b></p>\n",
              "                \n",
              "        <div>\n",
              "            <p><b>SparkContext</b></p>\n",
              "\n",
              "            <p><a href=\"http://bfb4aa8cbc7e:4050\">Spark UI</a></p>\n",
              "\n",
              "            <dl>\n",
              "              <dt>Version</dt>\n",
              "                <dd><code>v3.5.1</code></dd>\n",
              "              <dt>Master</dt>\n",
              "                <dd><code>local</code></dd>\n",
              "              <dt>AppName</dt>\n",
              "                <dd><code>Colab</code></dd>\n",
              "            </dl>\n",
              "        </div>\n",
              "        \n",
              "            </div>\n",
              "        "
            ]
          },
          "metadata": {},
          "execution_count": 6
        }
      ]
    },
    {
      "cell_type": "code",
      "source": [
        "df = spark.read.format(\"csv\").load(\"sample_data/california_housing_train.csv\", header=True, inferSchema=True)\n",
        "df.printSchema()"
      ],
      "metadata": {
        "colab": {
          "base_uri": "https://localhost:8080/"
        },
        "id": "BIjdtlgknbJr",
        "outputId": "e29c20a6-a88c-489b-f7b2-e2e5e102fa64"
      },
      "execution_count": null,
      "outputs": [
        {
          "output_type": "stream",
          "name": "stdout",
          "text": [
            "root\n",
            " |-- longitude: double (nullable = true)\n",
            " |-- latitude: double (nullable = true)\n",
            " |-- housing_median_age: double (nullable = true)\n",
            " |-- total_rooms: double (nullable = true)\n",
            " |-- total_bedrooms: double (nullable = true)\n",
            " |-- population: double (nullable = true)\n",
            " |-- households: double (nullable = true)\n",
            " |-- median_income: double (nullable = true)\n",
            " |-- median_house_value: double (nullable = true)\n",
            "\n"
          ]
        }
      ]
    },
    {
      "cell_type": "code",
      "source": [
        "df.show(5)"
      ],
      "metadata": {
        "colab": {
          "base_uri": "https://localhost:8080/"
        },
        "id": "9n5LHin7nbG7",
        "outputId": "9a69adca-3d09-486a-9618-f487285882b8"
      },
      "execution_count": null,
      "outputs": [
        {
          "output_type": "stream",
          "name": "stdout",
          "text": [
            "+---------+--------+------------------+-----------+--------------+----------+----------+-------------+------------------+\n",
            "|longitude|latitude|housing_median_age|total_rooms|total_bedrooms|population|households|median_income|median_house_value|\n",
            "+---------+--------+------------------+-----------+--------------+----------+----------+-------------+------------------+\n",
            "|  -114.31|   34.19|              15.0|     5612.0|        1283.0|    1015.0|     472.0|       1.4936|           66900.0|\n",
            "|  -114.47|    34.4|              19.0|     7650.0|        1901.0|    1129.0|     463.0|         1.82|           80100.0|\n",
            "|  -114.56|   33.69|              17.0|      720.0|         174.0|     333.0|     117.0|       1.6509|           85700.0|\n",
            "|  -114.57|   33.64|              14.0|     1501.0|         337.0|     515.0|     226.0|       3.1917|           73400.0|\n",
            "|  -114.57|   33.57|              20.0|     1454.0|         326.0|     624.0|     262.0|        1.925|           65500.0|\n",
            "+---------+--------+------------------+-----------+--------------+----------+----------+-------------+------------------+\n",
            "only showing top 5 rows\n",
            "\n"
          ]
        }
      ]
    },
    {
      "cell_type": "code",
      "source": [
        "from pyspark.sql.functions import monotonically_increasing_id\n",
        "\n",
        "df = df.withColumn('id', monotonically_increasing_id())\n",
        "\n",
        "df = df[['id'] + df.columns[:-1]]\n",
        "\n",
        "df.show(5)"
      ],
      "metadata": {
        "colab": {
          "base_uri": "https://localhost:8080/"
        },
        "id": "lskkoO83nbEL",
        "outputId": "ffcdeaca-2db1-4174-e3bd-17f7a42316c8"
      },
      "execution_count": null,
      "outputs": [
        {
          "output_type": "stream",
          "name": "stdout",
          "text": [
            "+---+---------+--------+------------------+-----------+--------------+----------+----------+-------------+------------------+\n",
            "| id|longitude|latitude|housing_median_age|total_rooms|total_bedrooms|population|households|median_income|median_house_value|\n",
            "+---+---------+--------+------------------+-----------+--------------+----------+----------+-------------+------------------+\n",
            "|  0|  -114.31|   34.19|              15.0|     5612.0|        1283.0|    1015.0|     472.0|       1.4936|           66900.0|\n",
            "|  1|  -114.47|    34.4|              19.0|     7650.0|        1901.0|    1129.0|     463.0|         1.82|           80100.0|\n",
            "|  2|  -114.56|   33.69|              17.0|      720.0|         174.0|     333.0|     117.0|       1.6509|           85700.0|\n",
            "|  3|  -114.57|   33.64|              14.0|     1501.0|         337.0|     515.0|     226.0|       3.1917|           73400.0|\n",
            "|  4|  -114.57|   33.57|              20.0|     1454.0|         326.0|     624.0|     262.0|        1.925|           65500.0|\n",
            "+---+---------+--------+------------------+-----------+--------------+----------+----------+-------------+------------------+\n",
            "only showing top 5 rows\n",
            "\n"
          ]
        }
      ]
    },
    {
      "cell_type": "code",
      "source": [
        "df.count()"
      ],
      "metadata": {
        "colab": {
          "base_uri": "https://localhost:8080/"
        },
        "id": "oJ9UGWKJna-x",
        "outputId": "cac68be8-fe55-4232-968b-3a1c7867e0a3"
      },
      "execution_count": null,
      "outputs": [
        {
          "output_type": "execute_result",
          "data": {
            "text/plain": [
              "17000"
            ]
          },
          "metadata": {},
          "execution_count": 11
        }
      ]
    },
    {
      "cell_type": "code",
      "source": [
        "from pyspark.sql.functions import mean, variance , col, count\n",
        "\n",
        "# Calculate mean and variance for each selected column\n",
        "mean_variance_df = df.select(mean('total_bedrooms'))\n",
        "\n",
        "# Show the result\n",
        "mean_variance_df.show()"
      ],
      "metadata": {
        "colab": {
          "base_uri": "https://localhost:8080/"
        },
        "id": "GN9m8kv9nazd",
        "outputId": "cf744398-85ef-4de0-9f0b-f105f5258be5"
      },
      "execution_count": null,
      "outputs": [
        {
          "output_type": "stream",
          "name": "stdout",
          "text": [
            "+-------------------+\n",
            "|avg(total_bedrooms)|\n",
            "+-------------------+\n",
            "|  539.4108235294118|\n",
            "+-------------------+\n",
            "\n"
          ]
        }
      ]
    },
    {
      "cell_type": "code",
      "source": [
        "# Calculate mean for each column\n",
        "mean_exprs = [mean(col(col_name)).alias('mean_' + col_name) for col_name in df.columns]\n",
        "\n",
        "# Calculate variance for each column\n",
        "variance_exprs = [variance(col(col_name)).alias('variance_' + col_name) for col_name in df.columns]\n",
        "\n",
        "# Select the mean and variance for each column\n",
        "mean_variance_df = df.select(mean_exprs + variance_exprs)\n",
        "\n",
        "# Show the result\n",
        "mean_variance_df.show()"
      ],
      "metadata": {
        "colab": {
          "base_uri": "https://localhost:8080/"
        },
        "id": "Hb8WwBvOuly3",
        "outputId": "1eccc5ba-e111-43cd-867c-3d44cd9929ca"
      },
      "execution_count": null,
      "outputs": [
        {
          "output_type": "stream",
          "name": "stdout",
          "text": [
            "+-------+-------------------+----------------+-----------------------+-----------------+-------------------+------------------+-----------------+------------------+-----------------------+-----------+------------------+-----------------+---------------------------+--------------------+-----------------------+-------------------+-------------------+----------------------+---------------------------+\n",
            "|mean_id|     mean_longitude|   mean_latitude|mean_housing_median_age| mean_total_rooms|mean_total_bedrooms|   mean_population|  mean_households|mean_median_income|mean_median_house_value|variance_id|variance_longitude|variance_latitude|variance_housing_median_age|variance_total_rooms|variance_total_bedrooms|variance_population|variance_households|variance_median_income|variance_median_house_value|\n",
            "+-------+-------------------+----------------+-----------------------+-----------------+-------------------+------------------+-----------------+------------------+-----------------------+-----------+------------------+-----------------+---------------------------+--------------------+-----------------------+-------------------+-------------------+----------------------+---------------------------+\n",
            "| 8499.5|-119.56210823529375|35.6252247058827|      28.58935294117647|2643.664411764706|  539.4108235294118|1429.5739411764705|501.2219411764706| 3.883578100000021|     207300.91235294117| 2.408475E7| 4.020692325480167|4.568221397824798|         158.43098258029036|   4752169.234335538|     177661.78768212677| 1317566.4158512827|  147856.2770525296|    3.6410612986326623|       1.345223360142759...|\n",
            "+-------+-------------------+----------------+-----------------------+-----------------+-------------------+------------------+-----------------+------------------+-----------------------+-----------+------------------+-----------------+---------------------------+--------------------+-----------------------+-------------------+-------------------+----------------------+---------------------------+\n",
            "\n"
          ]
        }
      ]
    },
    {
      "cell_type": "code",
      "source": [
        "df.select(*[mean(c) for c in df.columns]).show()"
      ],
      "metadata": {
        "colab": {
          "base_uri": "https://localhost:8080/"
        },
        "id": "fuu52JPQ3VUd",
        "outputId": "f069fa28-99ef-43d0-ab60-592eefc8d2c4"
      },
      "execution_count": null,
      "outputs": [
        {
          "output_type": "stream",
          "name": "stdout",
          "text": [
            "+-------+-------------------+----------------+-----------------------+-----------------+-------------------+------------------+-----------------+------------------+-----------------------+\n",
            "|avg(id)|     avg(longitude)|   avg(latitude)|avg(housing_median_age)| avg(total_rooms)|avg(total_bedrooms)|   avg(population)|  avg(households)|avg(median_income)|avg(median_house_value)|\n",
            "+-------+-------------------+----------------+-----------------------+-----------------+-------------------+------------------+-----------------+------------------+-----------------------+\n",
            "| 8499.5|-119.56210823529375|35.6252247058827|      28.58935294117647|2643.664411764706|  539.4108235294118|1429.5739411764705|501.2219411764706| 3.883578100000021|     207300.91235294117|\n",
            "+-------+-------------------+----------------+-----------------------+-----------------+-------------------+------------------+-----------------+------------------+-----------------------+\n",
            "\n"
          ]
        }
      ]
    },
    {
      "cell_type": "code",
      "source": [
        "# Check for null values in the \"total_rooms\" column\n",
        "null_total_rooms_count = df.filter(col(\"total_rooms\").isNull()).count()\n",
        "\n",
        "# Show the result\n",
        "print(\"Null values in 'total_rooms' column:\", null_total_rooms_count)"
      ],
      "metadata": {
        "colab": {
          "base_uri": "https://localhost:8080/"
        },
        "id": "f9QYQcnQulmp",
        "outputId": "a2c0a2d8-ae20-4c80-e6bf-97fde46d105d"
      },
      "execution_count": null,
      "outputs": [
        {
          "output_type": "stream",
          "name": "stdout",
          "text": [
            "Null values in 'total_rooms' column: 0\n"
          ]
        }
      ]
    },
    {
      "cell_type": "code",
      "source": [
        "# Count null values for each column\n",
        "null_counts = [(col_name, df.filter(col(col_name).isNull()).count()) for col_name in df.columns]\n",
        "\n",
        "# Show the result\n",
        "for col_name, null_count in null_counts:\n",
        "    print(f\"Null values in '{col_name}' column: {null_count}\")"
      ],
      "metadata": {
        "colab": {
          "base_uri": "https://localhost:8080/"
        },
        "id": "gGluhko32qpU",
        "outputId": "f394823c-1bc8-408f-9fbe-1caa08d60417"
      },
      "execution_count": null,
      "outputs": [
        {
          "output_type": "stream",
          "name": "stdout",
          "text": [
            "Null values in 'id' column: 0\n",
            "Null values in 'longitude' column: 0\n",
            "Null values in 'latitude' column: 0\n",
            "Null values in 'housing_median_age' column: 0\n",
            "Null values in 'total_rooms' column: 0\n",
            "Null values in 'total_bedrooms' column: 0\n",
            "Null values in 'population' column: 0\n",
            "Null values in 'households' column: 0\n",
            "Null values in 'median_income' column: 0\n",
            "Null values in 'median_house_value' column: 0\n"
          ]
        }
      ]
    },
    {
      "cell_type": "code",
      "source": [
        "train, test = df.randomSplit([0.7, 0.3])\n",
        "\n",
        "train, test"
      ],
      "metadata": {
        "colab": {
          "base_uri": "https://localhost:8080/"
        },
        "id": "sy2npfxo3_OW",
        "outputId": "d5913bbb-dc13-4324-f36b-396dfcf69b6e"
      },
      "execution_count": null,
      "outputs": [
        {
          "output_type": "execute_result",
          "data": {
            "text/plain": [
              "(DataFrame[id: bigint, longitude: double, latitude: double, housing_median_age: double, total_rooms: double, total_bedrooms: double, population: double, households: double, median_income: double, median_house_value: double],\n",
              " DataFrame[id: bigint, longitude: double, latitude: double, housing_median_age: double, total_rooms: double, total_bedrooms: double, population: double, households: double, median_income: double, median_house_value: double])"
            ]
          },
          "metadata": {},
          "execution_count": 37
        }
      ]
    },
    {
      "cell_type": "code",
      "source": [
        "print('No of rows in train dataframe:: ',train.count())\n",
        "print('No of columns in train dataframe:: ',len(train.columns))"
      ],
      "metadata": {
        "colab": {
          "base_uri": "https://localhost:8080/"
        },
        "id": "BbKcQjK-4GH8",
        "outputId": "9dbb543a-8259-4b92-d70b-be828c728695"
      },
      "execution_count": null,
      "outputs": [
        {
          "output_type": "stream",
          "name": "stdout",
          "text": [
            "No of rows in train dataframe::  11969\n",
            "No of columns in train dataframe::  10\n"
          ]
        }
      ]
    },
    {
      "cell_type": "code",
      "source": [
        "numerical_features_lst = train.columns\n",
        "numerical_features_lst.remove('median_house_value')\n",
        "numerical_features_lst.remove('id')\n",
        "\n",
        "numerical_features_lst"
      ],
      "metadata": {
        "colab": {
          "base_uri": "https://localhost:8080/"
        },
        "id": "sYesmMsv5JD_",
        "outputId": "b0ece197-089e-4e27-85f3-97cbd7a80a26"
      },
      "execution_count": null,
      "outputs": [
        {
          "output_type": "execute_result",
          "data": {
            "text/plain": [
              "['longitude',\n",
              " 'latitude',\n",
              " 'housing_median_age',\n",
              " 'total_rooms',\n",
              " 'total_bedrooms',\n",
              " 'population',\n",
              " 'households',\n",
              " 'median_income']"
            ]
          },
          "metadata": {},
          "execution_count": 44
        }
      ]
    },
    {
      "cell_type": "code",
      "source": [
        "# imputing missing values\n",
        "\n",
        "from pyspark.ml.feature import Imputer\n",
        "\n",
        "imputer = Imputer(inputCols=numerical_features_lst,\n",
        "                  outputCols=numerical_features_lst)\n",
        "\n",
        "imputer = imputer.fit(train)\n",
        "\n",
        "train = imputer.transform(train)\n",
        "test = imputer.transform(test)\n",
        "\n",
        "train.show(5)"
      ],
      "metadata": {
        "colab": {
          "base_uri": "https://localhost:8080/"
        },
        "id": "b1hyAY_v6VhQ",
        "outputId": "c4860e3c-3054-4999-9c89-bdeeb3b072e5"
      },
      "execution_count": null,
      "outputs": [
        {
          "output_type": "stream",
          "name": "stdout",
          "text": [
            "+---+---------+--------+------------------+-----------+--------------+----------+----------+-------------+------------------+\n",
            "| id|longitude|latitude|housing_median_age|total_rooms|total_bedrooms|population|households|median_income|median_house_value|\n",
            "+---+---------+--------+------------------+-----------+--------------+----------+----------+-------------+------------------+\n",
            "|  0|  -114.31|   34.19|              15.0|     5612.0|        1283.0|    1015.0|     472.0|       1.4936|           66900.0|\n",
            "|  1|  -114.47|    34.4|              19.0|     7650.0|        1901.0|    1129.0|     463.0|         1.82|           80100.0|\n",
            "|  2|  -114.56|   33.69|              17.0|      720.0|         174.0|     333.0|     117.0|       1.6509|           85700.0|\n",
            "|  4|  -114.57|   33.57|              20.0|     1454.0|         326.0|     624.0|     262.0|        1.925|           65500.0|\n",
            "|  7|  -114.59|   34.83|              41.0|      812.0|         168.0|     375.0|     158.0|       1.7083|           48500.0|\n",
            "+---+---------+--------+------------------+-----------+--------------+----------+----------+-------------+------------------+\n",
            "only showing top 5 rows\n",
            "\n"
          ]
        }
      ]
    },
    {
      "cell_type": "code",
      "source": [
        "# the VectorAssembler class from PySpark's pyspark.ml.feature module to assemble multiple columns into a single vector column\n",
        "\n",
        "from pyspark.ml.feature import VectorAssembler\n",
        "\n",
        "if 'numerical_feature_vector' not in train.columns:\n",
        "    numerical_vector_assembler = VectorAssembler(inputCols=numerical_features_lst,\n",
        "                                                 outputCol='numerical_feature_vector')\n",
        "    train = numerical_vector_assembler.transform(train)\n",
        "else:\n",
        "    print(\"'numerical_feature_vector' column already exists in train  DataFrame.\")\n",
        "\n",
        "\n",
        "\n",
        "if 'numerical_feature_vector' not in test.columns:\n",
        "    numerical_vector_assembler = VectorAssembler(inputCols=numerical_features_lst,\n",
        "                                                 outputCol='numerical_feature_vector')\n",
        "    test = numerical_vector_assembler.transform(test)\n",
        "else:\n",
        "    print(\"'numerical_feature_vector' column already exists in test DataFrame.\")\n",
        "\n",
        "# Show the first 2 rows of the DataFrame\n",
        "train.show(2)\n",
        "test.show(2)"
      ],
      "metadata": {
        "colab": {
          "base_uri": "https://localhost:8080/"
        },
        "id": "lvQ10RxE9Gra",
        "outputId": "5f4f15ef-7f6b-437a-9246-acc9bec12e90"
      },
      "execution_count": null,
      "outputs": [
        {
          "output_type": "stream",
          "name": "stdout",
          "text": [
            "'numerical_feature_vector' column already exists in train  DataFrame.\n",
            "'numerical_feature_vector' column already exists in test DataFrame.\n",
            "+---+---------+--------+------------------+-----------+--------------+----------+----------+-------------+------------------+------------------------+\n",
            "| id|longitude|latitude|housing_median_age|total_rooms|total_bedrooms|population|households|median_income|median_house_value|numerical_feature_vector|\n",
            "+---+---------+--------+------------------+-----------+--------------+----------+----------+-------------+------------------+------------------------+\n",
            "|  0|  -114.31|   34.19|              15.0|     5612.0|        1283.0|    1015.0|     472.0|       1.4936|           66900.0|    [-114.31,34.19,15...|\n",
            "|  1|  -114.47|    34.4|              19.0|     7650.0|        1901.0|    1129.0|     463.0|         1.82|           80100.0|    [-114.47,34.4,19....|\n",
            "+---+---------+--------+------------------+-----------+--------------+----------+----------+-------------+------------------+------------------------+\n",
            "only showing top 2 rows\n",
            "\n",
            "+---+---------+--------+------------------+-----------+--------------+----------+----------+-------------+------------------+------------------------+\n",
            "| id|longitude|latitude|housing_median_age|total_rooms|total_bedrooms|population|households|median_income|median_house_value|numerical_feature_vector|\n",
            "+---+---------+--------+------------------+-----------+--------------+----------+----------+-------------+------------------+------------------------+\n",
            "|  3|  -114.57|   33.64|              14.0|     1501.0|         337.0|     515.0|     226.0|       3.1917|           73400.0|    [-114.57,33.64,14...|\n",
            "|  5|  -114.58|   33.63|              29.0|     1387.0|         236.0|     671.0|     239.0|       3.3438|           74000.0|    [-114.58,33.63,29...|\n",
            "+---+---------+--------+------------------+-----------+--------------+----------+----------+-------------+------------------+------------------------+\n",
            "only showing top 2 rows\n",
            "\n"
          ]
        }
      ]
    },
    {
      "cell_type": "code",
      "source": [
        "train.select('numerical_feature_vector').take(2)"
      ],
      "metadata": {
        "colab": {
          "base_uri": "https://localhost:8080/"
        },
        "id": "hYQuXOpe79Ap",
        "outputId": "220d9164-8191-4336-dd95-c64629035283"
      },
      "execution_count": null,
      "outputs": [
        {
          "output_type": "execute_result",
          "data": {
            "text/plain": [
              "[Row(numerical_feature_vector=DenseVector([-114.31, 34.19, 15.0, 5612.0, 1283.0, 1015.0, 472.0, 1.4936])),\n",
              " Row(numerical_feature_vector=DenseVector([-114.47, 34.4, 19.0, 7650.0, 1901.0, 1129.0, 463.0, 1.82]))]"
            ]
          },
          "metadata": {},
          "execution_count": 54
        }
      ]
    },
    {
      "cell_type": "code",
      "source": [
        "from pyspark.ml.feature import StandardScaler\n",
        "\n",
        "scaler = StandardScaler(inputCol='numerical_feature_vector',\n",
        "                        outputCol='scaled_numerical_feature_vector',\n",
        "                        withStd=True, withMean=True)\n",
        "\n",
        "scaler = scaler.fit(train)\n",
        "\n",
        "train = scaler.transform(train)\n",
        "test = scaler.transform(test)\n",
        "\n",
        "train.show(3)"
      ],
      "metadata": {
        "colab": {
          "base_uri": "https://localhost:8080/"
        },
        "id": "jsenke9f78-U",
        "outputId": "d7190fdf-32b6-447a-8863-c4efb79f5f7a"
      },
      "execution_count": null,
      "outputs": [
        {
          "output_type": "stream",
          "name": "stdout",
          "text": [
            "+---+---------+--------+------------------+-----------+--------------+----------+----------+-------------+------------------+------------------------+-------------------------------+\n",
            "| id|longitude|latitude|housing_median_age|total_rooms|total_bedrooms|population|households|median_income|median_house_value|numerical_feature_vector|scaled_numerical_feature_vector|\n",
            "+---+---------+--------+------------------+-----------+--------------+----------+----------+-------------+------------------+------------------------+-------------------------------+\n",
            "|  0|  -114.31|   34.19|              15.0|     5612.0|        1283.0|    1015.0|     472.0|       1.4936|           66900.0|    [-114.31,34.19,15...|           [2.62721873379178...|\n",
            "|  1|  -114.47|    34.4|              19.0|     7650.0|        1901.0|    1129.0|     463.0|         1.82|           80100.0|    [-114.47,34.4,19....|           [2.54717726614910...|\n",
            "|  2|  -114.56|   33.69|              17.0|      720.0|         174.0|     333.0|     117.0|       1.6509|           85700.0|    [-114.56,33.69,17...|           [2.50215394060009...|\n",
            "+---+---------+--------+------------------+-----------+--------------+----------+----------+-------------+------------------+------------------------+-------------------------------+\n",
            "only showing top 3 rows\n",
            "\n"
          ]
        }
      ]
    },
    {
      "cell_type": "code",
      "source": [
        "train.select('scaled_numerical_feature_vector').take(3)"
      ],
      "metadata": {
        "colab": {
          "base_uri": "https://localhost:8080/"
        },
        "id": "RvWQo3YG788B",
        "outputId": "9b6be14d-f3f8-425e-ecb5-ba6652032e26"
      },
      "execution_count": null,
      "outputs": [
        {
          "output_type": "execute_result",
          "data": {
            "text/plain": [
              "[Row(scaled_numerical_feature_vector=DenseVector([2.6272, -0.6737, -1.0817, 1.355, 1.7488, -0.3574, -0.077, -1.2608])),\n",
              " Row(scaled_numerical_feature_vector=DenseVector([2.5472, -0.5752, -0.7624, 2.2868, 3.2045, -0.2593, -0.1003, -1.0883])),\n",
              " Row(scaled_numerical_feature_vector=DenseVector([2.5022, -0.9085, -0.922, -0.8817, -0.8635, -0.9443, -0.9971, -1.1777]))]"
            ]
          },
          "metadata": {},
          "execution_count": 56
        }
      ]
    },
    {
      "cell_type": "code",
      "source": [
        "from pyspark.ml.regression import LinearRegression\n",
        "\n",
        "lr = LinearRegression(featuresCol='scaled_numerical_feature_vector',\n",
        "                      labelCol='median_house_value')\n",
        "\n",
        "lr"
      ],
      "metadata": {
        "colab": {
          "base_uri": "https://localhost:8080/"
        },
        "id": "kChckEip785X",
        "outputId": "6641910a-7de8-4e2c-d31b-896fe8a4b903"
      },
      "execution_count": null,
      "outputs": [
        {
          "output_type": "execute_result",
          "data": {
            "text/plain": [
              "LinearRegression_c6bf0cc52245"
            ]
          },
          "metadata": {},
          "execution_count": 57
        }
      ]
    },
    {
      "cell_type": "code",
      "source": [
        "lr = lr.fit(train)\n",
        "\n",
        "lr"
      ],
      "metadata": {
        "colab": {
          "base_uri": "https://localhost:8080/"
        },
        "id": "9eodewKr782z",
        "outputId": "d3d98c48-9793-496b-f090-bb44312ad95b"
      },
      "execution_count": null,
      "outputs": [
        {
          "output_type": "execute_result",
          "data": {
            "text/plain": [
              "LinearRegressionModel: uid=LinearRegression_c6bf0cc52245, numFeatures=8"
            ]
          },
          "metadata": {},
          "execution_count": 58
        }
      ]
    },
    {
      "cell_type": "code",
      "source": [
        "pred_train_df = lr.transform(train).withColumnRenamed('prediction',\n",
        "                                                      'predicted_median_house_value')\n",
        "\n",
        "pred_train_df.show(5)"
      ],
      "metadata": {
        "colab": {
          "base_uri": "https://localhost:8080/"
        },
        "id": "pOcETaCe78sz",
        "outputId": "9b30bf06-f71c-4360-c0ce-0d35eb8f6726"
      },
      "execution_count": null,
      "outputs": [
        {
          "output_type": "stream",
          "name": "stdout",
          "text": [
            "+---+---------+--------+------------------+-----------+--------------+----------+----------+-------------+------------------+------------------------+-------------------------------+----------------------------+\n",
            "| id|longitude|latitude|housing_median_age|total_rooms|total_bedrooms|population|households|median_income|median_house_value|numerical_feature_vector|scaled_numerical_feature_vector|predicted_median_house_value|\n",
            "+---+---------+--------+------------------+-----------+--------------+----------+----------+-------------+------------------+------------------------+-------------------------------+----------------------------+\n",
            "|  0|  -114.31|   34.19|              15.0|     5612.0|        1283.0|    1015.0|     472.0|       1.4936|           66900.0|    [-114.31,34.19,15...|           [2.62721873379178...|          -63.22529605982709|\n",
            "|  1|  -114.47|    34.4|              19.0|     7650.0|        1901.0|    1129.0|     463.0|         1.82|           80100.0|    [-114.47,34.4,19....|           [2.54717726614910...|          64681.833050260495|\n",
            "|  2|  -114.56|   33.69|              17.0|      720.0|         174.0|     333.0|     117.0|       1.6509|           85700.0|    [-114.56,33.69,17...|           [2.50215394060009...|         -35067.882376655674|\n",
            "|  4|  -114.57|   33.57|              20.0|     1454.0|         326.0|     624.0|     262.0|        1.925|           65500.0|    [-114.57,33.57,20...|           [2.49715134887243...|          -7839.858416136674|\n",
            "|  7|  -114.59|   34.83|              41.0|      812.0|         168.0|     375.0|     158.0|       1.7083|           48500.0|    [-114.59,34.83,41...|           [2.48714616541709...|         -53813.561497620365|\n",
            "+---+---------+--------+------------------+-----------+--------------+----------+----------+-------------+------------------+------------------------+-------------------------------+----------------------------+\n",
            "only showing top 5 rows\n",
            "\n"
          ]
        }
      ]
    },
    {
      "cell_type": "code",
      "source": [
        "pred_test_df = lr.transform(test).withColumnRenamed('prediction', 'predicted_median_house_value')\n",
        "\n",
        "pred_test_df.show(5)"
      ],
      "metadata": {
        "colab": {
          "base_uri": "https://localhost:8080/"
        },
        "id": "CuwFrlEvG-Wg",
        "outputId": "e3d8e975-e154-43e4-f5a4-21592908987b"
      },
      "execution_count": null,
      "outputs": [
        {
          "output_type": "stream",
          "name": "stdout",
          "text": [
            "+---+---------+--------+------------------+-----------+--------------+----------+----------+-------------+------------------+------------------------+-------------------------------+----------------------------+\n",
            "| id|longitude|latitude|housing_median_age|total_rooms|total_bedrooms|population|households|median_income|median_house_value|numerical_feature_vector|scaled_numerical_feature_vector|predicted_median_house_value|\n",
            "+---+---------+--------+------------------+-----------+--------------+----------+----------+-------------+------------------+------------------------+-------------------------------+----------------------------+\n",
            "|  3|  -114.57|   33.64|              14.0|     1501.0|         337.0|     515.0|     226.0|       3.1917|           73400.0|    [-114.57,33.64,14...|           [2.49715134887243...|           36413.66592963578|\n",
            "|  5|  -114.58|   33.63|              29.0|     1387.0|         236.0|     671.0|     239.0|       3.3438|           74000.0|    [-114.58,33.63,29...|           [2.49214875714476...|           45436.43588636213|\n",
            "|  6|  -114.58|   33.61|              25.0|     2907.0|         680.0|    1841.0|     633.0|       2.6768|           82400.0|    [-114.58,33.61,25...|           [2.49214875714476...|           27428.73686657037|\n",
            "|  8|  -114.59|   33.61|              34.0|     4789.0|        1175.0|    3134.0|    1056.0|       2.1782|           58400.0|    [-114.59,33.61,34...|           [2.48714616541709...|           30700.59244296592|\n",
            "| 12|  -114.61|   34.84|              48.0|     1291.0|         248.0|     580.0|     211.0|       2.1571|           48600.0|    [-114.61,34.84,48...|           [2.47714098196176...|         -27006.919978391117|\n",
            "+---+---------+--------+------------------+-----------+--------------+----------+----------+-------------+------------------+------------------------+-------------------------------+----------------------------+\n",
            "only showing top 5 rows\n",
            "\n"
          ]
        }
      ]
    },
    {
      "cell_type": "code",
      "source": [
        "pred_test_pd_df = pred_test_df.toPandas()\n",
        "\n",
        "pred_test_pd_df.head(2)"
      ],
      "metadata": {
        "colab": {
          "base_uri": "https://localhost:8080/",
          "height": 167
        },
        "id": "MYCD5eYGG-On",
        "outputId": "34c91a5b-82d0-4132-e317-0bc60d4c789f"
      },
      "execution_count": null,
      "outputs": [
        {
          "output_type": "execute_result",
          "data": {
            "text/plain": [
              "   id  longitude  latitude  housing_median_age  total_rooms  total_bedrooms  \\\n",
              "0   3    -114.57     33.64                14.0       1501.0           337.0   \n",
              "1   5    -114.58     33.63                29.0       1387.0           236.0   \n",
              "\n",
              "   population  households  median_income  median_house_value  \\\n",
              "0       515.0       226.0         3.1917             73400.0   \n",
              "1       671.0       239.0         3.3438             74000.0   \n",
              "\n",
              "                            numerical_feature_vector  \\\n",
              "0  [-114.57, 33.64, 14.0, 1501.0, 337.0, 515.0, 2...   \n",
              "1  [-114.58, 33.63, 29.0, 1387.0, 236.0, 671.0, 2...   \n",
              "\n",
              "                     scaled_numerical_feature_vector  \\\n",
              "0  [2.497151348872434, -0.9319567155382452, -1.16...   \n",
              "1  [2.492148757144764, -0.9366514023413658, 0.035...   \n",
              "\n",
              "   predicted_median_house_value  \n",
              "0                  36413.665930  \n",
              "1                  45436.435886  "
            ],
            "text/html": [
              "\n",
              "  <div id=\"df-8a0b9c0f-94a7-404c-bd35-4e9310a4d985\" class=\"colab-df-container\">\n",
              "    <div>\n",
              "<style scoped>\n",
              "    .dataframe tbody tr th:only-of-type {\n",
              "        vertical-align: middle;\n",
              "    }\n",
              "\n",
              "    .dataframe tbody tr th {\n",
              "        vertical-align: top;\n",
              "    }\n",
              "\n",
              "    .dataframe thead th {\n",
              "        text-align: right;\n",
              "    }\n",
              "</style>\n",
              "<table border=\"1\" class=\"dataframe\">\n",
              "  <thead>\n",
              "    <tr style=\"text-align: right;\">\n",
              "      <th></th>\n",
              "      <th>id</th>\n",
              "      <th>longitude</th>\n",
              "      <th>latitude</th>\n",
              "      <th>housing_median_age</th>\n",
              "      <th>total_rooms</th>\n",
              "      <th>total_bedrooms</th>\n",
              "      <th>population</th>\n",
              "      <th>households</th>\n",
              "      <th>median_income</th>\n",
              "      <th>median_house_value</th>\n",
              "      <th>numerical_feature_vector</th>\n",
              "      <th>scaled_numerical_feature_vector</th>\n",
              "      <th>predicted_median_house_value</th>\n",
              "    </tr>\n",
              "  </thead>\n",
              "  <tbody>\n",
              "    <tr>\n",
              "      <th>0</th>\n",
              "      <td>3</td>\n",
              "      <td>-114.57</td>\n",
              "      <td>33.64</td>\n",
              "      <td>14.0</td>\n",
              "      <td>1501.0</td>\n",
              "      <td>337.0</td>\n",
              "      <td>515.0</td>\n",
              "      <td>226.0</td>\n",
              "      <td>3.1917</td>\n",
              "      <td>73400.0</td>\n",
              "      <td>[-114.57, 33.64, 14.0, 1501.0, 337.0, 515.0, 2...</td>\n",
              "      <td>[2.497151348872434, -0.9319567155382452, -1.16...</td>\n",
              "      <td>36413.665930</td>\n",
              "    </tr>\n",
              "    <tr>\n",
              "      <th>1</th>\n",
              "      <td>5</td>\n",
              "      <td>-114.58</td>\n",
              "      <td>33.63</td>\n",
              "      <td>29.0</td>\n",
              "      <td>1387.0</td>\n",
              "      <td>236.0</td>\n",
              "      <td>671.0</td>\n",
              "      <td>239.0</td>\n",
              "      <td>3.3438</td>\n",
              "      <td>74000.0</td>\n",
              "      <td>[-114.58, 33.63, 29.0, 1387.0, 236.0, 671.0, 2...</td>\n",
              "      <td>[2.492148757144764, -0.9366514023413658, 0.035...</td>\n",
              "      <td>45436.435886</td>\n",
              "    </tr>\n",
              "  </tbody>\n",
              "</table>\n",
              "</div>\n",
              "    <div class=\"colab-df-buttons\">\n",
              "\n",
              "  <div class=\"colab-df-container\">\n",
              "    <button class=\"colab-df-convert\" onclick=\"convertToInteractive('df-8a0b9c0f-94a7-404c-bd35-4e9310a4d985')\"\n",
              "            title=\"Convert this dataframe to an interactive table.\"\n",
              "            style=\"display:none;\">\n",
              "\n",
              "  <svg xmlns=\"http://www.w3.org/2000/svg\" height=\"24px\" viewBox=\"0 -960 960 960\">\n",
              "    <path d=\"M120-120v-720h720v720H120Zm60-500h600v-160H180v160Zm220 220h160v-160H400v160Zm0 220h160v-160H400v160ZM180-400h160v-160H180v160Zm440 0h160v-160H620v160ZM180-180h160v-160H180v160Zm440 0h160v-160H620v160Z\"/>\n",
              "  </svg>\n",
              "    </button>\n",
              "\n",
              "  <style>\n",
              "    .colab-df-container {\n",
              "      display:flex;\n",
              "      gap: 12px;\n",
              "    }\n",
              "\n",
              "    .colab-df-convert {\n",
              "      background-color: #E8F0FE;\n",
              "      border: none;\n",
              "      border-radius: 50%;\n",
              "      cursor: pointer;\n",
              "      display: none;\n",
              "      fill: #1967D2;\n",
              "      height: 32px;\n",
              "      padding: 0 0 0 0;\n",
              "      width: 32px;\n",
              "    }\n",
              "\n",
              "    .colab-df-convert:hover {\n",
              "      background-color: #E2EBFA;\n",
              "      box-shadow: 0px 1px 2px rgba(60, 64, 67, 0.3), 0px 1px 3px 1px rgba(60, 64, 67, 0.15);\n",
              "      fill: #174EA6;\n",
              "    }\n",
              "\n",
              "    .colab-df-buttons div {\n",
              "      margin-bottom: 4px;\n",
              "    }\n",
              "\n",
              "    [theme=dark] .colab-df-convert {\n",
              "      background-color: #3B4455;\n",
              "      fill: #D2E3FC;\n",
              "    }\n",
              "\n",
              "    [theme=dark] .colab-df-convert:hover {\n",
              "      background-color: #434B5C;\n",
              "      box-shadow: 0px 1px 3px 1px rgba(0, 0, 0, 0.15);\n",
              "      filter: drop-shadow(0px 1px 2px rgba(0, 0, 0, 0.3));\n",
              "      fill: #FFFFFF;\n",
              "    }\n",
              "  </style>\n",
              "\n",
              "    <script>\n",
              "      const buttonEl =\n",
              "        document.querySelector('#df-8a0b9c0f-94a7-404c-bd35-4e9310a4d985 button.colab-df-convert');\n",
              "      buttonEl.style.display =\n",
              "        google.colab.kernel.accessAllowed ? 'block' : 'none';\n",
              "\n",
              "      async function convertToInteractive(key) {\n",
              "        const element = document.querySelector('#df-8a0b9c0f-94a7-404c-bd35-4e9310a4d985');\n",
              "        const dataTable =\n",
              "          await google.colab.kernel.invokeFunction('convertToInteractive',\n",
              "                                                    [key], {});\n",
              "        if (!dataTable) return;\n",
              "\n",
              "        const docLinkHtml = 'Like what you see? Visit the ' +\n",
              "          '<a target=\"_blank\" href=https://colab.research.google.com/notebooks/data_table.ipynb>data table notebook</a>'\n",
              "          + ' to learn more about interactive tables.';\n",
              "        element.innerHTML = '';\n",
              "        dataTable['output_type'] = 'display_data';\n",
              "        await google.colab.output.renderOutput(dataTable, element);\n",
              "        const docLink = document.createElement('div');\n",
              "        docLink.innerHTML = docLinkHtml;\n",
              "        element.appendChild(docLink);\n",
              "      }\n",
              "    </script>\n",
              "  </div>\n",
              "\n",
              "\n",
              "<div id=\"df-dfa3c245-fa04-42d4-abcd-a9a1e0bfd243\">\n",
              "  <button class=\"colab-df-quickchart\" onclick=\"quickchart('df-dfa3c245-fa04-42d4-abcd-a9a1e0bfd243')\"\n",
              "            title=\"Suggest charts\"\n",
              "            style=\"display:none;\">\n",
              "\n",
              "<svg xmlns=\"http://www.w3.org/2000/svg\" height=\"24px\"viewBox=\"0 0 24 24\"\n",
              "     width=\"24px\">\n",
              "    <g>\n",
              "        <path d=\"M19 3H5c-1.1 0-2 .9-2 2v14c0 1.1.9 2 2 2h14c1.1 0 2-.9 2-2V5c0-1.1-.9-2-2-2zM9 17H7v-7h2v7zm4 0h-2V7h2v10zm4 0h-2v-4h2v4z\"/>\n",
              "    </g>\n",
              "</svg>\n",
              "  </button>\n",
              "\n",
              "<style>\n",
              "  .colab-df-quickchart {\n",
              "      --bg-color: #E8F0FE;\n",
              "      --fill-color: #1967D2;\n",
              "      --hover-bg-color: #E2EBFA;\n",
              "      --hover-fill-color: #174EA6;\n",
              "      --disabled-fill-color: #AAA;\n",
              "      --disabled-bg-color: #DDD;\n",
              "  }\n",
              "\n",
              "  [theme=dark] .colab-df-quickchart {\n",
              "      --bg-color: #3B4455;\n",
              "      --fill-color: #D2E3FC;\n",
              "      --hover-bg-color: #434B5C;\n",
              "      --hover-fill-color: #FFFFFF;\n",
              "      --disabled-bg-color: #3B4455;\n",
              "      --disabled-fill-color: #666;\n",
              "  }\n",
              "\n",
              "  .colab-df-quickchart {\n",
              "    background-color: var(--bg-color);\n",
              "    border: none;\n",
              "    border-radius: 50%;\n",
              "    cursor: pointer;\n",
              "    display: none;\n",
              "    fill: var(--fill-color);\n",
              "    height: 32px;\n",
              "    padding: 0;\n",
              "    width: 32px;\n",
              "  }\n",
              "\n",
              "  .colab-df-quickchart:hover {\n",
              "    background-color: var(--hover-bg-color);\n",
              "    box-shadow: 0 1px 2px rgba(60, 64, 67, 0.3), 0 1px 3px 1px rgba(60, 64, 67, 0.15);\n",
              "    fill: var(--button-hover-fill-color);\n",
              "  }\n",
              "\n",
              "  .colab-df-quickchart-complete:disabled,\n",
              "  .colab-df-quickchart-complete:disabled:hover {\n",
              "    background-color: var(--disabled-bg-color);\n",
              "    fill: var(--disabled-fill-color);\n",
              "    box-shadow: none;\n",
              "  }\n",
              "\n",
              "  .colab-df-spinner {\n",
              "    border: 2px solid var(--fill-color);\n",
              "    border-color: transparent;\n",
              "    border-bottom-color: var(--fill-color);\n",
              "    animation:\n",
              "      spin 1s steps(1) infinite;\n",
              "  }\n",
              "\n",
              "  @keyframes spin {\n",
              "    0% {\n",
              "      border-color: transparent;\n",
              "      border-bottom-color: var(--fill-color);\n",
              "      border-left-color: var(--fill-color);\n",
              "    }\n",
              "    20% {\n",
              "      border-color: transparent;\n",
              "      border-left-color: var(--fill-color);\n",
              "      border-top-color: var(--fill-color);\n",
              "    }\n",
              "    30% {\n",
              "      border-color: transparent;\n",
              "      border-left-color: var(--fill-color);\n",
              "      border-top-color: var(--fill-color);\n",
              "      border-right-color: var(--fill-color);\n",
              "    }\n",
              "    40% {\n",
              "      border-color: transparent;\n",
              "      border-right-color: var(--fill-color);\n",
              "      border-top-color: var(--fill-color);\n",
              "    }\n",
              "    60% {\n",
              "      border-color: transparent;\n",
              "      border-right-color: var(--fill-color);\n",
              "    }\n",
              "    80% {\n",
              "      border-color: transparent;\n",
              "      border-right-color: var(--fill-color);\n",
              "      border-bottom-color: var(--fill-color);\n",
              "    }\n",
              "    90% {\n",
              "      border-color: transparent;\n",
              "      border-bottom-color: var(--fill-color);\n",
              "    }\n",
              "  }\n",
              "</style>\n",
              "\n",
              "  <script>\n",
              "    async function quickchart(key) {\n",
              "      const quickchartButtonEl =\n",
              "        document.querySelector('#' + key + ' button');\n",
              "      quickchartButtonEl.disabled = true;  // To prevent multiple clicks.\n",
              "      quickchartButtonEl.classList.add('colab-df-spinner');\n",
              "      try {\n",
              "        const charts = await google.colab.kernel.invokeFunction(\n",
              "            'suggestCharts', [key], {});\n",
              "      } catch (error) {\n",
              "        console.error('Error during call to suggestCharts:', error);\n",
              "      }\n",
              "      quickchartButtonEl.classList.remove('colab-df-spinner');\n",
              "      quickchartButtonEl.classList.add('colab-df-quickchart-complete');\n",
              "    }\n",
              "    (() => {\n",
              "      let quickchartButtonEl =\n",
              "        document.querySelector('#df-dfa3c245-fa04-42d4-abcd-a9a1e0bfd243 button');\n",
              "      quickchartButtonEl.style.display =\n",
              "        google.colab.kernel.accessAllowed ? 'block' : 'none';\n",
              "    })();\n",
              "  </script>\n",
              "</div>\n",
              "\n",
              "    </div>\n",
              "  </div>\n"
            ],
            "application/vnd.google.colaboratory.intrinsic+json": {
              "type": "dataframe",
              "variable_name": "pred_test_pd_df",
              "summary": "{\n  \"name\": \"pred_test_pd_df\",\n  \"rows\": 5031,\n  \"fields\": [\n    {\n      \"column\": \"id\",\n      \"properties\": {\n        \"dtype\": \"number\",\n        \"std\": 4927,\n        \"min\": 3,\n        \"max\": 16999,\n        \"num_unique_values\": 5031,\n        \"samples\": [\n          12476,\n          6035,\n          11577\n        ],\n        \"semantic_type\": \"\",\n        \"description\": \"\"\n      }\n    },\n    {\n      \"column\": \"longitude\",\n      \"properties\": {\n        \"dtype\": \"number\",\n        \"std\": 2.020045297488306,\n        \"min\": -124.35,\n        \"max\": -114.57,\n        \"num_unique_values\": 689,\n        \"samples\": [\n          -119.11,\n          -123.35,\n          -118.81\n        ],\n        \"semantic_type\": \"\",\n        \"description\": \"\"\n      }\n    },\n    {\n      \"column\": \"latitude\",\n      \"properties\": {\n        \"dtype\": \"number\",\n        \"std\": 2.1547548865533552,\n        \"min\": 32.54,\n        \"max\": 41.86,\n        \"num_unique_values\": 674,\n        \"samples\": [\n          38.08,\n          36.77,\n          40.71\n        ],\n        \"semantic_type\": \"\",\n        \"description\": \"\"\n      }\n    },\n    {\n      \"column\": \"housing_median_age\",\n      \"properties\": {\n        \"dtype\": \"number\",\n        \"std\": 12.72491712320923,\n        \"min\": 1.0,\n        \"max\": 52.0,\n        \"num_unique_values\": 52,\n        \"samples\": [\n          3.0,\n          52.0,\n          40.0\n        ],\n        \"semantic_type\": \"\",\n        \"description\": \"\"\n      }\n    },\n    {\n      \"column\": \"total_rooms\",\n      \"properties\": {\n        \"dtype\": \"number\",\n        \"std\": 2162.856172710183,\n        \"min\": 2.0,\n        \"max\": 37937.0,\n        \"num_unique_values\": 3085,\n        \"samples\": [\n          879.0,\n          13553.0,\n          4994.0\n        ],\n        \"semantic_type\": \"\",\n        \"description\": \"\"\n      }\n    },\n    {\n      \"column\": \"total_bedrooms\",\n      \"properties\": {\n        \"dtype\": \"number\",\n        \"std\": 414.22150723652493,\n        \"min\": 2.0,\n        \"max\": 5471.0,\n        \"num_unique_values\": 1289,\n        \"samples\": [\n          51.0,\n          910.0,\n          1832.0\n        ],\n        \"semantic_type\": \"\",\n        \"description\": \"\"\n      }\n    },\n    {\n      \"column\": \"population\",\n      \"properties\": {\n        \"dtype\": \"number\",\n        \"std\": 1113.6679240557046,\n        \"min\": 6.0,\n        \"max\": 16122.0,\n        \"num_unique_values\": 2325,\n        \"samples\": [\n          2845.0,\n          466.0,\n          2347.0\n        ],\n        \"semantic_type\": \"\",\n        \"description\": \"\"\n      }\n    },\n    {\n      \"column\": \"households\",\n      \"properties\": {\n        \"dtype\": \"number\",\n        \"std\": 381.4561324632007,\n        \"min\": 2.0,\n        \"max\": 5189.0,\n        \"num_unique_values\": 1221,\n        \"samples\": [\n          483.0,\n          437.0,\n          442.0\n        ],\n        \"semantic_type\": \"\",\n        \"description\": \"\"\n      }\n    },\n    {\n      \"column\": \"median_income\",\n      \"properties\": {\n        \"dtype\": \"number\",\n        \"std\": 1.9457094593809128,\n        \"min\": 0.4999,\n        \"max\": 15.0001,\n        \"num_unique_values\": 4104,\n        \"samples\": [\n          3.5156,\n          3.115,\n          3.5541\n        ],\n        \"semantic_type\": \"\",\n        \"description\": \"\"\n      }\n    },\n    {\n      \"column\": \"median_house_value\",\n      \"properties\": {\n        \"dtype\": \"number\",\n        \"std\": 116559.09354491194,\n        \"min\": 14999.0,\n        \"max\": 500001.0,\n        \"num_unique_values\": 2443,\n        \"samples\": [\n          368400.0,\n          131600.0,\n          346200.0\n        ],\n        \"semantic_type\": \"\",\n        \"description\": \"\"\n      }\n    },\n    {\n      \"column\": \"numerical_feature_vector\",\n      \"properties\": {\n        \"dtype\": \"string\",\n        \"num_unique_values\": 5031,\n        \"samples\": [\n          \"[-121.61,36.68,37.0,3149.0,833.0,3456.0,788.0,2.8542]\",\n          \"[-118.22,34.05,34.0,1113.0,313.0,928.0,290.0,3.1654]\",\n          \"[-121.28,38.7,14.0,5827.0,1246.0,2578.0,1038.0,3.0212]\"\n        ],\n        \"semantic_type\": \"\",\n        \"description\": \"\"\n      }\n    },\n    {\n      \"column\": \"scaled_numerical_feature_vector\",\n      \"properties\": {\n        \"dtype\": \"string\",\n        \"num_unique_values\": 5031,\n        \"samples\": [\n          \"[-1.0246732274056234,0.4952280726107096,0.6742973840831148,0.22885174585948345,0.6888399757180642,1.743356612174535,0.7420328278224687,-0.5417330123022019]\",\n          \"[0.6712053682737242,-0.7394745566102627,0.43484965899240496,-0.7020344019618371,-0.5360347008887705,-0.4322645384212406,-0.5487359124728719,-0.37726966438494147]\",\n          \"[-0.8595877003925905,1.443554806841267,-1.1614685082789935,1.4532687909800612,1.6616731323308003,0.9877413549660338,1.3900091030711337,-0.45347665271935333]\"\n        ],\n        \"semantic_type\": \"\",\n        \"description\": \"\"\n      }\n    },\n    {\n      \"column\": \"predicted_median_house_value\",\n      \"properties\": {\n        \"dtype\": \"number\",\n        \"std\": 93864.31686738116,\n        \"min\": -86997.18523780783,\n        \"max\": 696599.5134682414,\n        \"num_unique_values\": 5031,\n        \"samples\": [\n          187937.4063257077,\n          189762.22648004844,\n          132862.33808588644\n        ],\n        \"semantic_type\": \"\",\n        \"description\": \"\"\n      }\n    }\n  ]\n}"
            }
          },
          "metadata": {},
          "execution_count": 61
        }
      ]
    },
    {
      "cell_type": "code",
      "source": [
        "predictions_and_actuals = pred_test_df[['predicted_median_house_value',\n",
        "                                        'median_house_value']]\n",
        "\n",
        "predictions_and_actuals.show(5)"
      ],
      "metadata": {
        "colab": {
          "base_uri": "https://localhost:8080/"
        },
        "id": "vVeH9hrQG-G1",
        "outputId": "99e26d78-5e4b-4e99-be86-d3a7056411db"
      },
      "execution_count": null,
      "outputs": [
        {
          "output_type": "stream",
          "name": "stdout",
          "text": [
            "+----------------------------+------------------+\n",
            "|predicted_median_house_value|median_house_value|\n",
            "+----------------------------+------------------+\n",
            "|           36413.66592963578|           73400.0|\n",
            "|           45436.43588636213|           74000.0|\n",
            "|           27428.73686657037|           82400.0|\n",
            "|           30700.59244296592|           58400.0|\n",
            "|         -27006.919978391117|           48600.0|\n",
            "+----------------------------+------------------+\n",
            "only showing top 5 rows\n",
            "\n"
          ]
        }
      ]
    },
    {
      "cell_type": "code",
      "source": [
        "predictions_and_actuals_rdd = predictions_and_actuals.rdd\n",
        "\n",
        "predictions_and_actuals_rdd.take(2)"
      ],
      "metadata": {
        "colab": {
          "base_uri": "https://localhost:8080/"
        },
        "id": "2rM8kVMYHmzr",
        "outputId": "cd022185-624a-4853-be72-6bb9e8a7018d"
      },
      "execution_count": null,
      "outputs": [
        {
          "output_type": "execute_result",
          "data": {
            "text/plain": [
              "[Row(predicted_median_house_value=36413.66592963578, median_house_value=73400.0),\n",
              " Row(predicted_median_house_value=45436.43588636213, median_house_value=74000.0)]"
            ]
          },
          "metadata": {},
          "execution_count": 63
        }
      ]
    },
    {
      "cell_type": "code",
      "source": [
        "from pyspark.mllib.evaluation import RegressionMetrics\n",
        "\n",
        "metrics = RegressionMetrics(predictions_and_actuals_rdd)\n",
        "\n",
        "s = '''\n",
        "Mean Squared Error:      {0}\n",
        "Root Mean Squared Error: {1}\n",
        "Mean Absolute Error:     {2}\n",
        "R**2:                    {3}\n",
        "'''.format(metrics.meanSquaredError,\n",
        "           metrics.rootMeanSquaredError,\n",
        "           metrics.meanAbsoluteError,\n",
        "           metrics.r2\n",
        "           )\n",
        "\n",
        "print(s)"
      ],
      "metadata": {
        "colab": {
          "base_uri": "https://localhost:8080/"
        },
        "id": "wGHE8zCbHmpM",
        "outputId": "c39104de-05ea-4e05-d69f-9ff25805eddb"
      },
      "execution_count": null,
      "outputs": [
        {
          "output_type": "stream",
          "name": "stderr",
          "text": [
            "/usr/local/lib/python3.10/dist-packages/pyspark/sql/context.py:158: FutureWarning: Deprecated in 3.0.0. Use SparkSession.builder.getOrCreate() instead.\n",
            "  warnings.warn(\n"
          ]
        },
        {
          "output_type": "stream",
          "name": "stdout",
          "text": [
            "\n",
            "Mean Squared Error:      4687778656.291053\n",
            "Root Mean Squared Error: 68467.35467572157\n",
            "Mean Absolute Error:     50508.82636363511\n",
            "R**2:                    0.6548871685293796\n",
            "\n"
          ]
        }
      ]
    }
  ]
}